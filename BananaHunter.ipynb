{
 "cells": [
  {
   "cell_type": "markdown",
   "metadata": {},
   "source": [
    "# Banana Hunter\n",
    "\n",
    "---\n",
    "Created by Jesper Højmark Esbensen, 2018-08-31.<br>\n",
    "<br>\n",
    "\n",
    "This note book will create and train an agent to collect yellow bananas in the Unity Machine Learning environment Banana. The solution is based on the general deep reenforcement learning agent supplied in the cource [Deep Reinforcement Learning Nanodegree](https://www.udacity.com/course/deep-reinforcement-learning-nanodegree--nd893).\n",
    "\n",
    "<img src=\"banana-env.png\",width=750>\n",
    "\n",
    "The environment is a square where yellow and blue bananas are dropping out of the sky. The agent is giving directions to at wagon that moves around in the square and collects bananas. Yellow bananas are rewarded with 1 point and blue bananas with -1. The tast is to collect at least 13 points in averge over 100 episodes. An episode is 1000 steps in the environment.<br>\n",
    "\n",
    "\n",
    "### 1. Installation instructions\n",
    "\n",
    "The banana hunter is a python, pyTorch agent living in a Unity Environment. The agent is run from a jupyter notebook. Therefore you will need some setup before you can run the agent. The following installation instructions apply for Windows 10, but you will be able to installe the same environment on Mac, Linux and other operating systems following the supplied links.\n",
    "\n",
    "You will need to install python 3.6 and a few packages. One popular way to install python is through Anaconda. A python/R environment. To install this follow the instructions on: https://www.anaconda.com/distribution/.\n",
    "\n",
    "Create an python environment using the \"Create\" button and select the python 3.6 version. Start a terminal for the environment and install jupyter.\n",
    "\n",
    "Install jupyter in the environment. \n",
    "\n",
    "    python -m pip install --upgrade pip\n",
    "    python -m pip install jupyter\n",
    "   \n",
    "or reference jupyters home page if you have problems: http://jupyter.org/install\n",
    "\n",
    "The agent is bulid using Facebook's pyTorch. To install run the followin commands.\n",
    "\n",
    "    conda install pytorch -c pytorch \n",
    "    pip3 install torchvision\n",
    "    \n",
    "or reference pyTorch's home page if you have problems: https://pytorch.org/\n",
    "\n",
    "The environment is build on Unitys ML-agents modul. To run these you will need TensorFlow:\n",
    "\n",
    "    pip install tensorflow==1.7.1\n",
    "\n",
    "or reference TensorFlow's home page if you have problems: https://www.tensorflow.org/\n",
    "\n",
    "Then install the ML-agenst from Unity.\n",
    "Clone the repository: \n",
    "\n",
    "    git clone https://github.com/Unity-Technologies/ml-agents.git\n",
    "\n",
    "find and change to the directory: ml-agents/python and install the ml-agenst with:\n",
    "\n",
    "    pip install .\n",
    "\n",
    "or reference this page if you have problems: https://github.com/Unity-Technologies/ml-agents/blob/master/docs/Installation-Windows.md\n",
    "\n",
    "\n",
    "To download this repository and run the banana hunter agent on your machine clone this github repository with the following command:\n",
    "\n",
    "    git clone https://github.com/JesperEsbensen/drlnd-navigation-project.git\n",
    "\n",
    "when cloned unpack the Banana_Windows_x86_64 in the same location so you get a subfolder: Banana_Windows_x86_64. If you unpack the environment in a different location you will need to change the path to the environment in the notebook accordingly.\n",
    "\n",
    "\n",
    "\n",
    "### 2. Import the needed modules into the notebook environment\n"
   ]
  },
  {
   "cell_type": "code",
   "execution_count": 1,
   "metadata": {
    "collapsed": true
   },
   "outputs": [],
   "source": [
    "import numpy as np\n",
    "import random\n",
    "from collections import namedtuple, deque\n",
    "\n",
    "import torch\n",
    "import torch.nn.functional as F\n",
    "import torch.optim as optim\n",
    "import torch.nn as nn\n",
    "\n",
    "from unityagents import UnityEnvironment"
   ]
  },
  {
   "cell_type": "markdown",
   "metadata": {},
   "source": [
    "\n",
    "### 3. Start the Unity Banana Environment\n",
    "\n",
    "Test that the environment can be found by the script. The path must point to the pre-created Banana.exe file."
   ]
  },
  {
   "cell_type": "code",
   "execution_count": 2,
   "metadata": {},
   "outputs": [
    {
     "name": "stderr",
     "output_type": "stream",
     "text": [
      "INFO:unityagents:\n",
      "'Academy' started successfully!\n",
      "Unity Academy name: Academy\n",
      "        Number of Brains: 1\n",
      "        Number of External Brains : 1\n",
      "        Lesson number : 0\n",
      "        Reset Parameters :\n",
      "\t\t\n",
      "Unity brain name: BananaBrain\n",
      "        Number of Visual Observations (per agent): 0\n",
      "        Vector Observation space type: continuous\n",
      "        Vector Observation space size (per agent): 37\n",
      "        Number of stacked Vector Observation: 1\n",
      "        Vector Action space type: discrete\n",
      "        Vector Action space size (per agent): 4\n",
      "        Vector Action descriptions: , , , \n"
     ]
    }
   ],
   "source": [
    "# Test if the environment is fould. \n",
    "env = UnityEnvironment(file_name=\"./Banana_Windows_x86_64/Banana.exe\")\n",
    "env.close()"
   ]
  },
  {
   "cell_type": "markdown",
   "metadata": {},
   "source": [
    "### 4. The hardware\n",
    "\n",
    "PyTorch can utilice the GPU of you machine if available. Here we find what device to use. It is refereced later to place the data on the CPU or GPU dependent on availablity.\n"
   ]
  },
  {
   "cell_type": "code",
   "execution_count": 3,
   "metadata": {},
   "outputs": [
    {
     "name": "stdout",
     "output_type": "stream",
     "text": [
      "PyTorch will use the  cuda:0\n"
     ]
    }
   ],
   "source": [
    "device = torch.device(\"cuda:0\" if torch.cuda.is_available() else \"cpu\")\n",
    "print ('PyTorch will use the ', device)"
   ]
  },
  {
   "cell_type": "markdown",
   "metadata": {},
   "source": [
    "### 5. The neural network\n",
    "\n",
    "The neural network is build with pyTorch's api and defined in the classes defined here: BananaNetworkFull, BananaNetworkFullRelu and .<br>\n",
    "The banana network can be initialized with at number of parameters to create different network architechturs. The parameteres are the number of states, the actions to estimate, a list of number of nodes in hidden layers. The \"layer set\" created is different from the three classes:<br>\n",
    "<br>\n",
    "The **BananaNetWorkFull** creates fully connected layers from state input to action output. This is not a neural network from a certan viewpoint, but simply a liniar combination of the input to the output.<br>\n",
    "<br>\n",
    "The **BananaNetworkFullRelu** creats a fully connected layer plus a Relu activation function for each \"layer set\". This is a neural network.<br>\n",
    "<br>\n",
    "The **BananaNetworkFullReluDropout** creats a fully connected layer followed by a relu activation funtion and a dropout layer.<br>\n",
    "<br>\n",
    "For the unity banana environment the input will be the number of stats equal to 37 and the output layer are the estimated values of the 4 actions that the wagon can take.\n"
   ]
  },
  {
   "cell_type": "code",
   "execution_count": 4,
   "metadata": {},
   "outputs": [
    {
     "data": {
      "text/plain": [
       "BananaNetworkFullReluDropout(\n",
       "  (hidden_layers): ModuleList(\n",
       "    (0): Linear(in_features=37, out_features=64, bias=True)\n",
       "    (1): Linear(in_features=64, out_features=32, bias=True)\n",
       "  )\n",
       "  (output): Linear(in_features=32, out_features=4, bias=True)\n",
       "  (dropout): Dropout(p=0.5)\n",
       ")"
      ]
     },
     "execution_count": 4,
     "metadata": {},
     "output_type": "execute_result"
    }
   ],
   "source": [
    "# Define a neural network to learn actions for the banana collector.\n",
    "  \n",
    "class BananaNetworkFull(nn.Module):\n",
    "\n",
    "    def __init__(self, state_size, action_size, hidden_layers, seed=0, drop_p=0.5):\n",
    "        \"\"\"Initialize parameters and build model.\n",
    "        Params\n",
    "        ======\n",
    "            state_size (int): Dimension of each state\n",
    "            action_size (int): Dimension of each action\n",
    "            hidden_layers (list of ints): Each number in the list is the number of nodes in that layer.\n",
    "            seed (int): Random seed\n",
    "            drop_p (float): Dropout rate for the drop out layer. NOT used in this class but needed for \n",
    "                            consistency with the over agen classes.\n",
    "        \"\"\"\n",
    "        super(BananaNetworkFull, self).__init__()\n",
    "        self.seed = torch.manual_seed(seed)\n",
    "        \n",
    "        # Add the first layer, input to a hidden layer\n",
    "        self.hidden_layers = nn.ModuleList([nn.Linear(state_size, hidden_layers[0])])\n",
    "        \n",
    "        # Add a variable number of more hidden layers\n",
    "        layer_sizes = zip(hidden_layers[:-1], hidden_layers[1:])\n",
    "        self.hidden_layers.extend([nn.Linear(h1, h2) for h1, h2 in layer_sizes])\n",
    "        self.output = nn.Linear(hidden_layers[-1], action_size)\n",
    "        \n",
    "    def forward(self, state):\n",
    "        \"\"\"Build a network that maps state -> action values.\"\"\"\n",
    "        \n",
    "        hidden_state = state\n",
    "        \n",
    "        # Forward through each layer in `hidden_layers`, with ReLU activation and dropout\n",
    "        for linear in self.hidden_layers:\n",
    "            hidden_state = linear(hidden_state)\n",
    "        \n",
    "        action_value = self.output(hidden_state)\n",
    "        return action_value\n",
    "\n",
    "    \n",
    "class BananaNetworkFullRelu(nn.Module):\n",
    "\n",
    "    def __init__(self, state_size, action_size, hidden_layers, seed=0, drop_p=0.5):\n",
    "        \"\"\"Initialize parameters and build model.\n",
    "        Params\n",
    "        ======\n",
    "            state_size (int): Dimension of each state\n",
    "            action_size (int): Dimension of each action\n",
    "            hidden_layers (list of ints): Each number in the list is the number of nodes in that layer.\n",
    "            seed (int): Random seed\n",
    "            drop_p (float): Dropout rate for the drop out layer. NOT used in this class but needed for \n",
    "                            consistency with the over agen classes.\n",
    "        \"\"\"\n",
    "        super(BananaNetworkFullRelu, self).__init__()\n",
    "        self.seed = torch.manual_seed(seed)\n",
    "        \n",
    "        # Add the first layer, input to a hidden layer\n",
    "        self.hidden_layers = nn.ModuleList([nn.Linear(state_size, hidden_layers[0])])\n",
    "        \n",
    "        # Add a variable number of more hidden layers\n",
    "        layer_sizes = zip(hidden_layers[:-1], hidden_layers[1:])\n",
    "        self.hidden_layers.extend([nn.Linear(h1, h2) for h1, h2 in layer_sizes])\n",
    "        self.output = nn.Linear(hidden_layers[-1], action_size)\n",
    "        \n",
    "    def forward(self, state):\n",
    "        \"\"\"Build a network that maps state -> action values.\"\"\"\n",
    "        \n",
    "        hidden_state = state\n",
    "        \n",
    "        # Forward through each layer in `hidden_layers`, with ReLU activation and dropout\n",
    "        for linear in self.hidden_layers:\n",
    "            hidden_state = F.relu(linear(hidden_state))\n",
    "        \n",
    "        action_value = self.output(hidden_state)\n",
    "        return action_value\n",
    "    \n",
    "class BananaNetworkFullReluDropout(nn.Module):\n",
    "\n",
    "    def __init__(self, state_size, action_size, hidden_layers, seed=0, drop_p=0.5):\n",
    "        \"\"\"Initialize parameters and build model.\n",
    "        Params\n",
    "        ======\n",
    "            state_size (int): Dimension of each state\n",
    "            action_size (int): Dimension of each action\n",
    "            hidden_layers (list of ints): Each number in the list is the number of nodes in that layer.\n",
    "            seed (int): Random seed\n",
    "            drop_p (float): Dropout rate for the drop out layer.\n",
    "        \"\"\"\n",
    "        super(BananaNetworkFullReluDropout, self).__init__()\n",
    "        self.seed = torch.manual_seed(seed)\n",
    "        \n",
    "        # Add the first layer, input to a hidden layer\n",
    "        self.hidden_layers = nn.ModuleList([nn.Linear(state_size, hidden_layers[0])])\n",
    "        \n",
    "        # Add a variable number of more hidden layers\n",
    "        layer_sizes = zip(hidden_layers[:-1], hidden_layers[1:])\n",
    "        self.hidden_layers.extend([nn.Linear(h1, h2) for h1, h2 in layer_sizes])\n",
    "        self.output = nn.Linear(hidden_layers[-1], action_size)\n",
    "        self.dropout = nn.Dropout(p=drop_p)\n",
    "        \n",
    "    def forward(self, state):\n",
    "        \"\"\"Build a network that maps state -> action values.\"\"\"\n",
    "        \n",
    "        hidden_state = state\n",
    "        \n",
    "        # Forward through each layer in `hidden_layers`, with ReLU activation and dropout\n",
    "        for linear in self.hidden_layers:\n",
    "            hidden_state = F.relu(linear(hidden_state))\n",
    "            hidden_state = self.dropout(hidden_state)\n",
    "        \n",
    "        action_value = self.output(hidden_state)\n",
    "        return action_value\n",
    "    \n",
    "    \n",
    "# Test the most complex of the networks.\n",
    "model = BananaNetworkFullReluDropout(37, 4, [64, 32])\n",
    "model\n"
   ]
  },
  {
   "cell_type": "markdown",
   "metadata": {},
   "source": [
    "### 6. The agent\n",
    "\n",
    "The agent is the \"brain\" of the wagon driving around in the Banana environment. The agent can take 4 actions: forward, backward, left and rigth. The agnet is implemented using Q-learning where the Q-table is replaced by a neural network. This is called Deep Q-learning. The neural network takes the state as input and predicts the best action to take as action with the maximum predicted value. To stabilize learining experience replay and double Q network is implemented.<br>\n",
    "<br>\n",
    "#### Q-learning\n",
    "\n",
    "Q-learning is in its simple and discrete form a table lookup that goes from the state you are in combined with the action you can take in that state to a value of the new state you will be going to taking that action. The action to take is the one with the highest value.<br>\n",
    "In deep Q-learning this table is replaced by a neural network that approximates the values found in the Q-table. This works bette in large state-spaces and in continuous space. The table is recreated in a network where thie input layers corresponds the state and the output layer values of taking the given aktions. One ouput pr action. The best action to take is the one with the maximum value (exploitation of known knowledge). In order to search the state space better, than taking the best action always the Q-learning algorithme is randomized with an epsilon-greedy pick of the next action (exploration).<br> Implementation of deep Q-learning and epsilon greedy pick of actions are mainly found in the function act and learn.<br>\n",
    "<br>\n",
    "For more detailed information read the Deepmind paper: **Human-level control through deep reinforcement learning.**<br> https://storage.googleapis.com/deepmind-media/dqn/DQNNaturePaper.pdf<br>\n",
    "\n",
    "#### Experience Replay\n",
    "While the agent is taking \"random\" actions to explore the state-space it will go through at certain path from state to state. This series of state and actions is strongly correlated and if the agent is trained with this experience as it moves around the q-values will be updated in a biased way that can end up in a local unwanted minimum. The avoid this the moves and rewards are collected and stored in a buffer. No direct learing is applied. At a given interval a batche of samples are taken from the buffer and the network trained with them. This breaks the correlation and it enables more leaning from the same experience and smoothens the learing of the network. Above paper also contains details on this methodology. <br>\n",
    "Implementation of experience replay is found in the step function and the ReplayBuffer. Here we make a learning step with 64 samples every 4 steps. So there is an increased learning by 64/4 = 16 from introducing the experience replay buffer.<br>\n",
    "<br>\n",
    "For more detailed information methods section of the Deepmind paper: **Human-level control through deep reinforcement learning.**<br> https://storage.googleapis.com/deepmind-media/dqn/DQNNaturePaper.pdf<br>\n",
    "\n",
    "#### Fixed Q-targets and Double Q-learning\n",
    "Using the same network for both selecting and evaluating actions, can result in fluctuating or exploding weights especially in the begining of the learning process where the weights are initialized randomly. To prevent this the agent is implemented with a primary network called the qnetwork_local and a second Q-network called the qnetwork_target.<br>\n",
    "The primary network called qnetwork_local is used in the act function to find the most valuable action to take. The result is stored in the replay buffer for later learing together with the the result of taking the action in the environment.<br>\n",
    "At given interval of steps (update_every) the replay buffer is sampled and the batch used to train the qnetwork_local in the learn function. Here the qnetwork_target is used to calculate predicted q-values from the next state and the reward. The resulting q-values are compared to the direct evaluation of the state by the qnetwork_local and from the difference the qnetwork_local is trained.<br>\n",
    "Finaly a part of the new knowlegde in the qnetwork_local is transfered to the qnetwork_target and used in the next learning phase."
   ]
  },
  {
   "cell_type": "code",
   "execution_count": 5,
   "metadata": {},
   "outputs": [],
   "source": [
    "class Agent(  ):\n",
    "    \"\"\"Interacts with and learns from the environment.\"\"\"\n",
    "\n",
    "    def __init__(self, NetworkType, state_size, action_size, hidden_layers, seed, drop_out=0.25, \n",
    "                 gamma = 0.99, tau = 1e-3, lr = 5e-4):\n",
    "        \n",
    "        \"\"\"Initialize an Agent object.\n",
    "        \n",
    "        Params\n",
    "        ======\n",
    "            NetworkType: Network class to be used for estimation of actions values.\n",
    "            state_size (int): dimension of each state\n",
    "            action_size (int): dimension of each action\n",
    "            hidden_layers (list of int): Number of nodes in the hidden layers.\n",
    "            seed (int): random seed\n",
    "            drop_out: Drop out probability.\n",
    "            gamma: discount factor for futur rewards.\n",
    "            tau: Update rate for Double Q-learning.\n",
    "            lr: Learn rate.\n",
    "        \"\"\"\n",
    "        \n",
    "        self.buffer_size = int(1e5)  # replay buffer size\n",
    "        self.batch_size = 64         # minibatch size\n",
    "        self.gamma = gamma           # discount factor\n",
    "        self.tau = tau               # for soft update of target parameters\n",
    "        self.lr = lr                 # learning rate \n",
    "        self.update_every = 4        # how often to update the network\n",
    "        \n",
    "        self.state_size = state_size\n",
    "        self.action_size = action_size\n",
    "        self.hidden_layers = hidden_layers\n",
    "        self.seed = random.seed(seed)\n",
    "\n",
    "        # Create two Q-Network's for implementation of Double Q-learning.\n",
    "        self.qnetwork_local = NetworkType(state_size, action_size, self.hidden_layers, seed, drop_out).to(device)\n",
    "        self.qnetwork_target = NetworkType(state_size, action_size, self.hidden_layers, seed, drop_out).to(device)\n",
    "        \n",
    "        # The agent uses the Adam optimizer.\n",
    "        self.optimizer = optim.Adam(self.qnetwork_local.parameters(), lr)\n",
    "\n",
    "        # Replay memory\n",
    "        self.memory = ReplayBuffer(action_size, self.buffer_size, self.batch_size, seed)\n",
    "        \n",
    "        # Initialize time step (for updating every UPDATE_EVERY steps)\n",
    "        self.t_step = 0  \n",
    "    \n",
    "    def step(self, state, action, reward, next_state, done):\n",
    "        \"\"\"Updates the agent with the action taken and the result of taking the action.\n",
    "        \n",
    "        Params\n",
    "        ======\n",
    "            state (array_like): current state\n",
    "            action (int): epsilon, for epsilon-greedy action selection\n",
    "            reward :\n",
    "            next_state (array_like): \n",
    "            done:\n",
    "        \"\"\"\n",
    "        \n",
    "        # Save experience in replay memory\n",
    "        self.memory.add(state, action, reward, next_state, done)\n",
    "        \n",
    "        # Learn every UPDATE_EVERY time steps.\n",
    "        self.t_step = (self.t_step + 1) % self.update_every\n",
    "        \n",
    "        if self.t_step == 0:\n",
    "            # If enough samples are available in memory, get random subset and learn\n",
    "            if len(self.memory) > self.batch_size:\n",
    "                # The batch size samples and learn from them.\n",
    "                experiences = self.memory.sample()\n",
    "                self.learn(experiences, self.gamma)\n",
    "\n",
    "    def act(self, state, eps=0.):\n",
    "        \"\"\"Returns actions for given state as per current policy.\n",
    "        \n",
    "        Params\n",
    "        ======\n",
    "            state (array_like): current state\n",
    "            eps (float): epsilon, for epsilon-greedy action selection\n",
    "        \"\"\"\n",
    "        state = torch.from_numpy(state).float().unsqueeze(0).to(device)\n",
    "        \n",
    "        # Turn off training mode.\n",
    "        self.qnetwork_local.eval()\n",
    "        with torch.no_grad():\n",
    "            # Find best action to take\n",
    "            action_values = self.qnetwork_local(state)\n",
    "            \n",
    "        # Turn on training mode.\n",
    "        self.qnetwork_local.train()\n",
    "\n",
    "        # Epsilon-greedy action selection\n",
    "        if random.random() > eps:\n",
    "            return np.argmax(action_values.cpu().data.numpy())\n",
    "        else:\n",
    "            return random.choice(np.arange(self.action_size))\n",
    "\n",
    "    def learn(self, experiences, gamma):\n",
    "        \"\"\"Update value parameters using given batch of experience tuples.\n",
    "\n",
    "        Params\n",
    "        ======\n",
    "            experiences (Tuple[torch.Variable]): tuple of (s, a, r, s', done) tuples \n",
    "            gamma (float): discount factor\n",
    "        \"\"\"\n",
    "        states, actions, rewards, next_states, dones = experiences\n",
    "\n",
    "        # Get max predicted Q values (for next states) from target model\n",
    "        # Note: The self.qnetwork_target(next_states) calls the __call__ function on the modul object\n",
    "        # which calls the forward function. So we get a prediction.\n",
    "        Q_targets_next = self.qnetwork_target(next_states).detach().max(1)[0].unsqueeze(1)\n",
    "        \n",
    "        # Compute Q targets for current states \n",
    "        Q_targets = rewards + (gamma * Q_targets_next * (1 - dones))\n",
    "\n",
    "        # Get expected Q values from local model\n",
    "        Q_expected = self.qnetwork_local(states).gather(1, actions)\n",
    "\n",
    "        # Compute loss\n",
    "        loss = F.mse_loss(Q_expected, Q_targets)\n",
    "        \n",
    "        # Minimize the loss\n",
    "        self.optimizer.zero_grad()\n",
    "        loss.backward()\n",
    "        self.optimizer.step()\n",
    "\n",
    "        # ------------------- update target network ------------------- #\n",
    "        self.soft_update(self.qnetwork_local, self.qnetwork_target, self.tau)                     \n",
    "\n",
    "    def soft_update(self, local_model, target_model, tau):\n",
    "        \"\"\"Soft update model parameters.\n",
    "        θ_target = τ*θ_local + (1 - τ)*θ_target\n",
    "\n",
    "        Params\n",
    "        ======\n",
    "            local_model (PyTorch model): weights will be copied from\n",
    "            target_model (PyTorch model): weights will be copied to\n",
    "            tau (float): interpolation parameter \n",
    "        \"\"\"\n",
    "        for target_param, local_param in zip(target_model.parameters(), local_model.parameters()):\n",
    "            target_param.data.copy_(tau*local_param.data + (1.0-tau)*target_param.data)\n",
    "\n",
    "    \n",
    "    # Getters\n",
    "    def getInputSize(self):\n",
    "        return self.state_size\n",
    "    \n",
    "    def getOutputSize (self):\n",
    "        return self.action_size\n",
    "    \n",
    "    def getHiddenLayers (self):\n",
    "        return self.hidden_layers\n",
    "    \n",
    "    "
   ]
  },
  {
   "cell_type": "markdown",
   "metadata": {},
   "source": [
    "### 7. The Replay Buffer\n",
    "\n",
    "The replay buffer is a storage for earlier experience. It is implemented as a deque of buffer_size length. \n",
    "The class supports adding a set of state, action, reward, next_state and done values and a function for \n",
    "sampling a batch of experiences from the deque.\n"
   ]
  },
  {
   "cell_type": "code",
   "execution_count": 6,
   "metadata": {
    "collapsed": true
   },
   "outputs": [],
   "source": [
    "class ReplayBuffer:\n",
    "    \"\"\"Fixed-size buffer to store experience tuples.\"\"\"\n",
    "\n",
    "    def __init__(self, action_size, buffer_size, batch_size, seed):\n",
    "        \"\"\"Initialize a ReplayBuffer object.\n",
    "\n",
    "        Params\n",
    "        ======\n",
    "            action_size (int): dimension of each action\n",
    "            buffer_size (int): maximum size of buffer\n",
    "            batch_size (int): size of each training batch\n",
    "            seed (int): random seed\n",
    "        \"\"\"\n",
    "        self.action_size = action_size\n",
    "        self.memory = deque(maxlen=buffer_size)  \n",
    "        self.batch_size = batch_size\n",
    "        self.experience = namedtuple(\"Experience\", field_names=[\"state\", \"action\", \"reward\", \"next_state\", \"done\"])\n",
    "        self.seed = random.seed(seed)\n",
    "    \n",
    "    def add(self, state, action, reward, next_state, done):\n",
    "        \"\"\"Add a new experience to memory.\"\"\"\n",
    "        e = self.experience(state, action, reward, next_state, done)\n",
    "        self.memory.append(e)\n",
    "    \n",
    "    def sample(self):\n",
    "        \"\"\"Randomly sample a batch of experiences from memory.\"\"\"\n",
    "        experiences = random.sample(self.memory, k=self.batch_size)\n",
    "\n",
    "        states = torch.from_numpy(np.vstack([e.state for e in experiences if e is not None])).float().to(device)\n",
    "        actions = torch.from_numpy(np.vstack([e.action for e in experiences if e is not None])).long().to(device)\n",
    "        rewards = torch.from_numpy(np.vstack([e.reward for e in experiences if e is not None])).float().to(device)\n",
    "        next_states = torch.from_numpy(np.vstack([e.next_state for e in experiences if e is not None])).float().to(device)\n",
    "        dones = torch.from_numpy(np.vstack([e.done for e in experiences if e is not None]).astype(np.uint8)).float().to(device)\n",
    "  \n",
    "        return (states, actions, rewards, next_states, dones)\n",
    "\n",
    "    def __len__(self):\n",
    "        \"\"\"Return the current size of internal memory.\"\"\"\n",
    "        return len(self.memory)"
   ]
  },
  {
   "cell_type": "markdown",
   "metadata": {},
   "source": [
    "### 8. The training loop\n",
    "\n",
    "The training loop creates an episode by performing max_t steps in the environment. In each step the agent is asked for the best action to take (atc). The action is handed over to the environment to get at response and the result is stored in the replay buffer. At regular intervals the storage function is added a learning step to train the network."
   ]
  },
  {
   "cell_type": "code",
   "execution_count": 7,
   "metadata": {},
   "outputs": [],
   "source": [
    "def dqn( modelname, agent, best_score, n_episodes=2000, max_t=1000, eps_start=1.0, eps_end=0.01, eps_decay=0.997 ):\n",
    "    \"\"\"Deep Q-Learning.\n",
    "    \n",
    "    Params\n",
    "    ======\n",
    "        n_episodes (int): maximum number of training episodes\n",
    "        max_t (int): maximum number of timesteps per episode\n",
    "        eps_start (float): starting value of epsilon, for epsilon-greedy action selection\n",
    "        eps_end (float): minimum value of epsilon\n",
    "        eps_decay (float): multiplicative factor (per episode) for decreasing epsilon\n",
    "    \"\"\"\n",
    "    \n",
    "    # The default \"brain\" from the Unity environment is used.\n",
    "    brain_name = env.brain_names[0]\n",
    "    \n",
    "    scores = []                        # list containing scores from each episode\n",
    "    first_solved = None\n",
    "    highest_score = 0\n",
    "    scores_window = deque(maxlen=100)  # last 100 scores\n",
    "    eps = eps_start                    # initialize epsilon\n",
    "    \n",
    "    for i_episode in range(1, n_episodes+1):\n",
    "        \n",
    "        # Setup for a new episode.\n",
    "        env_info = env.reset(train_mode=True)[brain_name]\n",
    "        state = env_info.vector_observations[0]\n",
    "        \n",
    "        # Step through episode until done or max steps have been reached.\n",
    "        score = 0\n",
    "        for t in range(max_t):\n",
    "            # Get next action.\n",
    "            action = agent.act(state, eps)\n",
    "            #print ('act: ', action, 'brain_name: ', brain_name)\n",
    "            \n",
    "            # Determin next state.\n",
    "            env_info = env.step(int(action))[brain_name]        # send the action to the environment\n",
    "            next_state = env_info.vector_observations[0]   # get the next state\n",
    "            reward = env_info.rewards[0]                   # get the reward\n",
    "            done = env_info.local_done[0]                  # see if episode has finished\n",
    "            \n",
    "            # Store or learn from step.\n",
    "            agent.step(state, action, reward, next_state, done)\n",
    "            \n",
    "            # Prepare for next action.\n",
    "            state = next_state\n",
    "            score += reward   \n",
    "            if done:\n",
    "                break \n",
    "                \n",
    "        scores_window.append(score)       # save most recent score\n",
    "        scores.append(score)              # save most recent score\n",
    "        eps = max(eps_end, eps_decay*eps) # decrease epsilon\n",
    "        \n",
    "        # Print score.\n",
    "        print('\\rEpisode {}\\tAverage Score: {:.2f}'.format(i_episode, np.mean(scores_window)), end=\"\")\n",
    "        if i_episode % 100 == 0:\n",
    "            print('\\rEpisode {}\\tAverage Score: {:.2f}'.format(i_episode, np.mean(scores_window)))\n",
    "            \n",
    "            sc = np.mean(scores_window)\n",
    "            highest_score = max (highest_score, sc)\n",
    "            \n",
    "            # Save models when targeet has been exceeded.\n",
    "            if sc >= 13:\n",
    "                print('\\nEnvironment solved in {:d} episodes!\\tAverage Score: {:.2f}'.format(i_episode-100, np.mean(scores_window)))\n",
    "                torch.save(agent.qnetwork_local.state_dict(), 'checkpoint.pth')\n",
    "                \n",
    "                if not first_solved:\n",
    "                    first_solved = i_episode\n",
    "            \n",
    "            if sc > best_score:\n",
    "                best_score = sc\n",
    "                print ('Achieved best score:', best_score )\n",
    "                checkpoint = {\n",
    "                    'title': modelname,\n",
    "                    'best_score': best_score,\n",
    "                    'first_solved': first_solved,\n",
    "                    'episode': i_episode,\n",
    "                    'input_size': agent.getInputSize(),\n",
    "                    'output_size': agent.getOutputSize(),\n",
    "                    'hidden_layers': agent.getHiddenLayers(),\n",
    "                    'state_dict': model.state_dict()}\n",
    "                torch.save(checkpoint, 'bestcheckpoint.pth')\n",
    "            \n",
    "    return scores, best_score, highest_score, first_solved\n",
    "\n"
   ]
  },
  {
   "cell_type": "markdown",
   "metadata": {},
   "source": [
    "### 9. Plot results\n",
    "\n",
    "The training loop collects a list of scores that the agent has achieved. This score is plotted with the pyplot class in the matplotlib."
   ]
  },
  {
   "cell_type": "code",
   "execution_count": 8,
   "metadata": {},
   "outputs": [],
   "source": [
    "import matplotlib.pyplot as plt\n",
    "\n",
    "# Plot scores\n",
    "def plotScors (scores, best_score, first_solved):\n",
    "    # Plot the scores\n",
    "    fig = plt.figure()\n",
    "    ax = fig.add_subplot(111)\n",
    "    plt.plot(np.arange(len(scores)), scores)\n",
    "    plt.ylabel('Score')\n",
    "    plt.xlabel('Episode #')\n",
    "    plt.show()\n",
    "    \n",
    "    if first_solved:\n",
    "        print ('The environment was first solved at episode :', first_solved, ' the best score was :', best_score )\n",
    "    else:\n",
    "        print ('The environment was never solved')\n",
    "    \n",
    "# Initialize best score to accepted level.\n",
    "best_score = 13"
   ]
  },
  {
   "cell_type": "markdown",
   "metadata": {},
   "source": [
    "### 10. Solving the environment\n",
    "\n",
    "The following section is a list of expriments with different configurations of networks and hyperparameters. The architecture and hyperparametes are explained for each experiment. <br>\n",
    "For each experiment the resulting score is plotted as a function of episodes and across all experiments the best model and its parameters are stored in the bestcheckpoint.pth file."
   ]
  },
  {
   "cell_type": "markdown",
   "metadata": {},
   "source": [
    "#### 10.1 Fully connected layer - no Relu\n",
    "The first neural network consist of 3 fully connected layer. The layers go from the input of 37 states to 32 hidden nodes, 16 hidden nodes and an output of 4 actions. There are no activation functions added so the end result will be a liniar combination of the input. Not really a neural network - but good as a benchmark for addeing a relu in the next section."
   ]
  },
  {
   "cell_type": "code",
   "execution_count": 9,
   "metadata": {},
   "outputs": [
    {
     "name": "stderr",
     "output_type": "stream",
     "text": [
      "INFO:unityagents:\n",
      "'Academy' started successfully!\n",
      "Unity Academy name: Academy\n",
      "        Number of Brains: 1\n",
      "        Number of External Brains : 1\n",
      "        Lesson number : 0\n",
      "        Reset Parameters :\n",
      "\t\t\n",
      "Unity brain name: BananaBrain\n",
      "        Number of Visual Observations (per agent): 0\n",
      "        Vector Observation space type: continuous\n",
      "        Vector Observation space size (per agent): 37\n",
      "        Number of stacked Vector Observation: 1\n",
      "        Vector Action space type: discrete\n",
      "        Vector Action space size (per agent): 4\n",
      "        Vector Action descriptions: , , , \n"
     ]
    },
    {
     "name": "stdout",
     "output_type": "stream",
     "text": [
      "Episode 100\tAverage Score: 0.30\n",
      "Episode 200\tAverage Score: 2.57\n",
      "Episode 300\tAverage Score: 4.32\n",
      "Episode 400\tAverage Score: 5.08\n",
      "Episode 500\tAverage Score: 6.33\n",
      "Episode 600\tAverage Score: 5.98\n",
      "Episode 700\tAverage Score: 6.81\n",
      "Episode 800\tAverage Score: 7.40\n",
      "Episode 900\tAverage Score: 7.16\n",
      "Episode 1000\tAverage Score: 9.05\n",
      "Episode 1100\tAverage Score: 8.54\n",
      "Episode 1200\tAverage Score: 8.85\n",
      "Episode 1300\tAverage Score: 8.69\n",
      "Episode 1400\tAverage Score: 9.72\n",
      "Episode 1500\tAverage Score: 10.66\n",
      "Episode 1600\tAverage Score: 11.23\n",
      "Episode 1700\tAverage Score: 11.70\n",
      "Episode 1800\tAverage Score: 11.17\n",
      "Episode 1900\tAverage Score: 11.13\n",
      "Episode 2000\tAverage Score: 11.23\n"
     ]
    },
    {
     "data": {
      "image/png": "[encoded data removed]",
      "text/plain": [
       "<Figure size 432x288 with 1 Axes>"
      ]
     },
     "metadata": {},
     "output_type": "display_data"
    },
    {
     "name": "stdout",
     "output_type": "stream",
     "text": [
      "The environment was never solved\n"
     ]
    }
   ],
   "source": [
    "env = UnityEnvironment(file_name=\"./Banana_Windows_x86_64/Banana.exe\")\n",
    "agent = Agent(BananaNetworkFull, state_size=37, action_size=4, hidden_layers=[32, 16], seed=0)\n",
    "scores, best_score, highest_score, first_solved = dqn('9.1 BananaNetworkFull 32/16', agent, best_score)\n",
    "env.close()\n",
    "\n",
    "plotScors (scores, highest_score, first_solved)\n"
   ]
  },
  {
   "cell_type": "markdown",
   "metadata": {},
   "source": [
    "#### 10.2 Fully connected layer with Relu\n",
    "The first neural network consist of 3 fully connected layer. The layers go from the input of 37 states to 32 hidden nodes, \n",
    "16 hidden nodes and an output of 4 actions. Every layer except the last is followed by a relu activation function."
   ]
  },
  {
   "cell_type": "code",
   "execution_count": 10,
   "metadata": {},
   "outputs": [
    {
     "name": "stderr",
     "output_type": "stream",
     "text": [
      "INFO:unityagents:\n",
      "'Academy' started successfully!\n",
      "Unity Academy name: Academy\n",
      "        Number of Brains: 1\n",
      "        Number of External Brains : 1\n",
      "        Lesson number : 0\n",
      "        Reset Parameters :\n",
      "\t\t\n",
      "Unity brain name: BananaBrain\n",
      "        Number of Visual Observations (per agent): 0\n",
      "        Vector Observation space type: continuous\n",
      "        Vector Observation space size (per agent): 37\n",
      "        Number of stacked Vector Observation: 1\n",
      "        Vector Action space type: discrete\n",
      "        Vector Action space size (per agent): 4\n",
      "        Vector Action descriptions: , , , \n"
     ]
    },
    {
     "name": "stdout",
     "output_type": "stream",
     "text": [
      "Episode 100\tAverage Score: -0.09\n",
      "Episode 200\tAverage Score: 2.414\n",
      "Episode 300\tAverage Score: 5.35\n",
      "Episode 400\tAverage Score: 6.73\n",
      "Episode 500\tAverage Score: 9.53\n",
      "Episode 600\tAverage Score: 12.12\n",
      "Episode 700\tAverage Score: 12.53\n",
      "Episode 800\tAverage Score: 12.89\n",
      "Episode 900\tAverage Score: 14.09\n",
      "\n",
      "Environment solved in 800 episodes!\tAverage Score: 14.09\n",
      "Achieved best score: 14.09\n",
      "Episode 1000\tAverage Score: 14.72\n",
      "\n",
      "Environment solved in 900 episodes!\tAverage Score: 14.72\n",
      "Achieved best score: 14.72\n",
      "Episode 1100\tAverage Score: 14.35\n",
      "\n",
      "Environment solved in 1000 episodes!\tAverage Score: 14.35\n",
      "Episode 1200\tAverage Score: 14.73\n",
      "\n",
      "Environment solved in 1100 episodes!\tAverage Score: 14.73\n",
      "Achieved best score: 14.73\n",
      "Episode 1300\tAverage Score: 15.12\n",
      "\n",
      "Environment solved in 1200 episodes!\tAverage Score: 15.12\n",
      "Achieved best score: 15.12\n",
      "Episode 1400\tAverage Score: 15.88\n",
      "\n",
      "Environment solved in 1300 episodes!\tAverage Score: 15.88\n",
      "Achieved best score: 15.88\n",
      "Episode 1500\tAverage Score: 15.52\n",
      "\n",
      "Environment solved in 1400 episodes!\tAverage Score: 15.52\n",
      "Episode 1600\tAverage Score: 14.55\n",
      "\n",
      "Environment solved in 1500 episodes!\tAverage Score: 14.55\n",
      "Episode 1700\tAverage Score: 16.32\n",
      "\n",
      "Environment solved in 1600 episodes!\tAverage Score: 16.32\n",
      "Achieved best score: 16.32\n",
      "Episode 1800\tAverage Score: 15.94\n",
      "\n",
      "Environment solved in 1700 episodes!\tAverage Score: 15.94\n",
      "Episode 1900\tAverage Score: 16.08\n",
      "\n",
      "Environment solved in 1800 episodes!\tAverage Score: 16.08\n",
      "Episode 2000\tAverage Score: 16.21\n",
      "\n",
      "Environment solved in 1900 episodes!\tAverage Score: 16.21\n"
     ]
    },
    {
     "data": {
      "image/png": "[encoded data removed]",
      "text/plain": [
       "<Figure size 432x288 with 1 Axes>"
      ]
     },
     "metadata": {},
     "output_type": "display_data"
    },
    {
     "name": "stdout",
     "output_type": "stream",
     "text": [
      "The environment was first solved at episode : 900  the best score was : 16.32\n"
     ]
    }
   ],
   "source": [
    "env = UnityEnvironment(file_name=\"./Banana_Windows_x86_64/Banana.exe\")\n",
    "agent = Agent(BananaNetworkFullRelu, state_size=37, action_size=4, hidden_layers=[32, 16], seed=0)\n",
    "scores, best_score, highest_score, first_solved = dqn('9.2 BananaNetworkFullRelu  32/16', agent, best_score)\n",
    "env.close()\n",
    "\n",
    "plotScors (scores, highest_score, first_solved)"
   ]
  },
  {
   "cell_type": "markdown",
   "metadata": {},
   "source": [
    "#### 10.3 Fully connected layer with Relu and dropout.\n",
    "The first neural network consist of 3 fully connected layer. The layers go from the input of 37 states to 32 hidden nodes, \n",
    "16 hidden nodes and an output of 4 actions. Every layer except the last is followed by a relu activation function and a dropout layer with at dropout rate of 0.25."
   ]
  },
  {
   "cell_type": "code",
   "execution_count": 11,
   "metadata": {},
   "outputs": [
    {
     "name": "stderr",
     "output_type": "stream",
     "text": [
      "INFO:unityagents:\n",
      "'Academy' started successfully!\n",
      "Unity Academy name: Academy\n",
      "        Number of Brains: 1\n",
      "        Number of External Brains : 1\n",
      "        Lesson number : 0\n",
      "        Reset Parameters :\n",
      "\t\t\n",
      "Unity brain name: BananaBrain\n",
      "        Number of Visual Observations (per agent): 0\n",
      "        Vector Observation space type: continuous\n",
      "        Vector Observation space size (per agent): 37\n",
      "        Number of stacked Vector Observation: 1\n",
      "        Vector Action space type: discrete\n",
      "        Vector Action space size (per agent): 4\n",
      "        Vector Action descriptions: , , , \n"
     ]
    },
    {
     "name": "stdout",
     "output_type": "stream",
     "text": [
      "Episode 100\tAverage Score: 0.45\n",
      "Episode 200\tAverage Score: 1.95\n",
      "Episode 300\tAverage Score: 4.84\n",
      "Episode 400\tAverage Score: 8.25\n",
      "Episode 500\tAverage Score: 8.33\n",
      "Episode 600\tAverage Score: 8.01\n",
      "Episode 700\tAverage Score: 10.23\n",
      "Episode 800\tAverage Score: 10.63\n",
      "Episode 900\tAverage Score: 10.29\n",
      "Episode 1000\tAverage Score: 11.77\n",
      "Episode 1100\tAverage Score: 11.73\n",
      "Episode 1200\tAverage Score: 11.65\n",
      "Episode 1300\tAverage Score: 11.79\n",
      "Episode 1400\tAverage Score: 11.72\n",
      "Episode 1500\tAverage Score: 12.23\n",
      "Episode 1600\tAverage Score: 10.71\n",
      "Episode 1700\tAverage Score: 12.38\n",
      "Episode 1800\tAverage Score: 11.99\n",
      "Episode 1900\tAverage Score: 11.84\n",
      "Episode 2000\tAverage Score: 12.16\n"
     ]
    },
    {
     "data": {
      "image/png": "[encoded data removed]",
      "text/plain": [
       "<Figure size 432x288 with 1 Axes>"
      ]
     },
     "metadata": {},
     "output_type": "display_data"
    },
    {
     "name": "stdout",
     "output_type": "stream",
     "text": [
      "The environment was never solved\n"
     ]
    }
   ],
   "source": [
    "env = UnityEnvironment(file_name=\"./Banana_Windows_x86_64/Banana.exe\")\n",
    "agent = Agent(BananaNetworkFullReluDropout, state_size=37, action_size=4, hidden_layers=[32, 16], drop_out=0.25, seed=0)\n",
    "scores, best_score, highest_score, first_solved = dqn('9.3 BananaNetworkFullReluDropout  32/16', agent, best_score)\n",
    "env.close()\n",
    "\n",
    "plotScors (scores, highest_score, first_solved)"
   ]
  },
  {
   "cell_type": "markdown",
   "metadata": {},
   "source": [
    "#### 10.4 Fully connected layer with Relu and double nodes.\n",
    "\n",
    "The fully connected with relu is the best performing of the above layers. So here I try out this kind of network in different sizes. This network doubles the number of hidden nodes. So the network consists of of 3 fully connected layer. The layers go from the input of 37 states to 64 hidden nodes, 32 hidden nodes and an output of 4 actions. Every layer except the last is followed by a relu activation."
   ]
  },
  {
   "cell_type": "code",
   "execution_count": 12,
   "metadata": {},
   "outputs": [
    {
     "name": "stderr",
     "output_type": "stream",
     "text": [
      "INFO:unityagents:\n",
      "'Academy' started successfully!\n",
      "Unity Academy name: Academy\n",
      "        Number of Brains: 1\n",
      "        Number of External Brains : 1\n",
      "        Lesson number : 0\n",
      "        Reset Parameters :\n",
      "\t\t\n",
      "Unity brain name: BananaBrain\n",
      "        Number of Visual Observations (per agent): 0\n",
      "        Vector Observation space type: continuous\n",
      "        Vector Observation space size (per agent): 37\n",
      "        Number of stacked Vector Observation: 1\n",
      "        Vector Action space type: discrete\n",
      "        Vector Action space size (per agent): 4\n",
      "        Vector Action descriptions: , , , \n"
     ]
    },
    {
     "name": "stdout",
     "output_type": "stream",
     "text": [
      "Episode 100\tAverage Score: 0.46\n",
      "Episode 200\tAverage Score: 2.62\n",
      "Episode 300\tAverage Score: 4.99\n",
      "Episode 400\tAverage Score: 6.82\n",
      "Episode 500\tAverage Score: 9.23\n",
      "Episode 600\tAverage Score: 10.96\n",
      "Episode 700\tAverage Score: 12.51\n",
      "Episode 800\tAverage Score: 13.15\n",
      "\n",
      "Environment solved in 700 episodes!\tAverage Score: 13.15\n",
      "Episode 900\tAverage Score: 13.03\n",
      "\n",
      "Environment solved in 800 episodes!\tAverage Score: 13.03\n",
      "Episode 1000\tAverage Score: 13.69\n",
      "\n",
      "Environment solved in 900 episodes!\tAverage Score: 13.69\n",
      "Episode 1100\tAverage Score: 15.54\n",
      "\n",
      "Environment solved in 1000 episodes!\tAverage Score: 15.54\n",
      "Episode 1200\tAverage Score: 15.64\n",
      "\n",
      "Environment solved in 1100 episodes!\tAverage Score: 15.64\n",
      "Episode 1300\tAverage Score: 16.41\n",
      "\n",
      "Environment solved in 1200 episodes!\tAverage Score: 16.41\n",
      "Achieved best score: 16.41\n",
      "Episode 1400\tAverage Score: 16.30\n",
      "\n",
      "Environment solved in 1300 episodes!\tAverage Score: 16.30\n",
      "Episode 1500\tAverage Score: 15.98\n",
      "\n",
      "Environment solved in 1400 episodes!\tAverage Score: 15.98\n",
      "Episode 1600\tAverage Score: 15.84\n",
      "\n",
      "Environment solved in 1500 episodes!\tAverage Score: 15.84\n",
      "Episode 1700\tAverage Score: 16.16\n",
      "\n",
      "Environment solved in 1600 episodes!\tAverage Score: 16.16\n",
      "Episode 1800\tAverage Score: 16.28\n",
      "\n",
      "Environment solved in 1700 episodes!\tAverage Score: 16.28\n",
      "Episode 1900\tAverage Score: 16.85\n",
      "\n",
      "Environment solved in 1800 episodes!\tAverage Score: 16.85\n",
      "Achieved best score: 16.85\n",
      "Episode 2000\tAverage Score: 16.50\n",
      "\n",
      "Environment solved in 1900 episodes!\tAverage Score: 16.50\n"
     ]
    },
    {
     "data": {
      "image/png": "[encoded data removed]",
      "text/plain": [
       "<Figure size 432x288 with 1 Axes>"
      ]
     },
     "metadata": {},
     "output_type": "display_data"
    },
    {
     "name": "stdout",
     "output_type": "stream",
     "text": [
      "The environment was first solved at episode : 800  the best score was : 16.85\n"
     ]
    }
   ],
   "source": [
    "env = UnityEnvironment(file_name=\"./Banana_Windows_x86_64/Banana.exe\")\n",
    "agent = Agent(BananaNetworkFullRelu, state_size=37, action_size=4, hidden_layers=[64, 32], seed=0)\n",
    "scores, best_score, highest_score, first_solved = dqn('9.4 BananaNetworkFullRelu double nodes 64/32', agent, best_score)\n",
    "env.close()\n",
    "\n",
    "plotScors (scores, highest_score, first_solved)"
   ]
  },
  {
   "cell_type": "markdown",
   "metadata": {},
   "source": [
    "#### 10.5 Fully connected layer with Relu with an extra layer.\n",
    "\n",
    "This network doubles the number of hidden nodes. So the network consists of of 3 fully connected layer. The layers go from the input of 37 states to 64 hidden nodes, 32 hidden nodes, 16 hidden nodes and an output of 4 actions. Every layer except the last is followed by a relu activation."
   ]
  },
  {
   "cell_type": "code",
   "execution_count": 13,
   "metadata": {},
   "outputs": [
    {
     "name": "stderr",
     "output_type": "stream",
     "text": [
      "INFO:unityagents:\n",
      "'Academy' started successfully!\n",
      "Unity Academy name: Academy\n",
      "        Number of Brains: 1\n",
      "        Number of External Brains : 1\n",
      "        Lesson number : 0\n",
      "        Reset Parameters :\n",
      "\t\t\n",
      "Unity brain name: BananaBrain\n",
      "        Number of Visual Observations (per agent): 0\n",
      "        Vector Observation space type: continuous\n",
      "        Vector Observation space size (per agent): 37\n",
      "        Number of stacked Vector Observation: 1\n",
      "        Vector Action space type: discrete\n",
      "        Vector Action space size (per agent): 4\n",
      "        Vector Action descriptions: , , , \n"
     ]
    },
    {
     "name": "stdout",
     "output_type": "stream",
     "text": [
      "Episode 100\tAverage Score: 0.41\n",
      "Episode 200\tAverage Score: 2.90\n",
      "Episode 300\tAverage Score: 5.64\n",
      "Episode 400\tAverage Score: 7.57\n",
      "Episode 500\tAverage Score: 9.76\n",
      "Episode 600\tAverage Score: 11.01\n",
      "Episode 700\tAverage Score: 12.61\n",
      "Episode 800\tAverage Score: 13.67\n",
      "\n",
      "Environment solved in 700 episodes!\tAverage Score: 13.67\n",
      "Episode 900\tAverage Score: 14.42\n",
      "\n",
      "Environment solved in 800 episodes!\tAverage Score: 14.42\n",
      "Episode 1000\tAverage Score: 13.93\n",
      "\n",
      "Environment solved in 900 episodes!\tAverage Score: 13.93\n",
      "Episode 1100\tAverage Score: 15.94\n",
      "\n",
      "Environment solved in 1000 episodes!\tAverage Score: 15.94\n",
      "Episode 1200\tAverage Score: 15.01\n",
      "\n",
      "Environment solved in 1100 episodes!\tAverage Score: 15.01\n",
      "Episode 1300\tAverage Score: 15.92\n",
      "\n",
      "Environment solved in 1200 episodes!\tAverage Score: 15.92\n",
      "Episode 1400\tAverage Score: 15.46\n",
      "\n",
      "Environment solved in 1300 episodes!\tAverage Score: 15.46\n",
      "Episode 1500\tAverage Score: 15.60\n",
      "\n",
      "Environment solved in 1400 episodes!\tAverage Score: 15.60\n",
      "Episode 1600\tAverage Score: 14.97\n",
      "\n",
      "Environment solved in 1500 episodes!\tAverage Score: 14.97\n",
      "Episode 1700\tAverage Score: 15.89\n",
      "\n",
      "Environment solved in 1600 episodes!\tAverage Score: 15.89\n",
      "Episode 1800\tAverage Score: 15.32\n",
      "\n",
      "Environment solved in 1700 episodes!\tAverage Score: 15.32\n",
      "Episode 1900\tAverage Score: 15.52\n",
      "\n",
      "Environment solved in 1800 episodes!\tAverage Score: 15.52\n",
      "Episode 2000\tAverage Score: 15.74\n",
      "\n",
      "Environment solved in 1900 episodes!\tAverage Score: 15.74\n"
     ]
    },
    {
     "data": {
      "image/png": "[encoded data removed]",
      "text/plain": [
       "<Figure size 432x288 with 1 Axes>"
      ]
     },
     "metadata": {},
     "output_type": "display_data"
    },
    {
     "name": "stdout",
     "output_type": "stream",
     "text": [
      "The environment was first solved at episode : 800  the best score was : 15.94\n"
     ]
    }
   ],
   "source": [
    "env = UnityEnvironment(file_name=\"./Banana_Windows_x86_64/Banana.exe\")\n",
    "agent = Agent(BananaNetworkFullRelu, state_size=37, action_size=4, hidden_layers=[64, 32, 16], seed=0)\n",
    "scores, best_score, highest_score, first_solved = dqn('9.5 BananaNetworkFullRelu extra layer 64/32/16', agent, best_score)\n",
    "env.close()\n",
    "\n",
    "plotScors (scores, highest_score, first_solved)"
   ]
  },
  {
   "cell_type": "markdown",
   "metadata": {},
   "source": [
    "#### 10.6 Fully connected layer with Relu and a small hidden layer.\n",
    "\n",
    "This network has only one hidden layer of 16 nodes. The layers go from the input of 37 states to 16 hidden nodes and an output of 4 actions. Every layer except the last is followed by a relu activation."
   ]
  },
  {
   "cell_type": "code",
   "execution_count": 14,
   "metadata": {},
   "outputs": [
    {
     "name": "stderr",
     "output_type": "stream",
     "text": [
      "INFO:unityagents:\n",
      "'Academy' started successfully!\n",
      "Unity Academy name: Academy\n",
      "        Number of Brains: 1\n",
      "        Number of External Brains : 1\n",
      "        Lesson number : 0\n",
      "        Reset Parameters :\n",
      "\t\t\n",
      "Unity brain name: BananaBrain\n",
      "        Number of Visual Observations (per agent): 0\n",
      "        Vector Observation space type: continuous\n",
      "        Vector Observation space size (per agent): 37\n",
      "        Number of stacked Vector Observation: 1\n",
      "        Vector Action space type: discrete\n",
      "        Vector Action space size (per agent): 4\n",
      "        Vector Action descriptions: , , , \n"
     ]
    },
    {
     "name": "stdout",
     "output_type": "stream",
     "text": [
      "Episode 100\tAverage Score: 0.45\n",
      "Episode 200\tAverage Score: 3.38\n",
      "Episode 300\tAverage Score: 5.26\n",
      "Episode 400\tAverage Score: 7.36\n",
      "Episode 500\tAverage Score: 7.96\n",
      "Episode 600\tAverage Score: 8.37\n",
      "Episode 700\tAverage Score: 8.73\n",
      "Episode 800\tAverage Score: 8.52\n",
      "Episode 900\tAverage Score: 10.42\n",
      "Episode 1000\tAverage Score: 11.28\n",
      "Episode 1100\tAverage Score: 13.12\n",
      "\n",
      "Environment solved in 1000 episodes!\tAverage Score: 13.12\n",
      "Episode 1200\tAverage Score: 13.76\n",
      "\n",
      "Environment solved in 1100 episodes!\tAverage Score: 13.76\n",
      "Episode 1300\tAverage Score: 14.29\n",
      "\n",
      "Environment solved in 1200 episodes!\tAverage Score: 14.29\n",
      "Episode 1400\tAverage Score: 14.35\n",
      "\n",
      "Environment solved in 1300 episodes!\tAverage Score: 14.35\n",
      "Episode 1500\tAverage Score: 13.36\n",
      "\n",
      "Environment solved in 1400 episodes!\tAverage Score: 13.36\n",
      "Episode 1600\tAverage Score: 15.32\n",
      "\n",
      "Environment solved in 1500 episodes!\tAverage Score: 15.32\n",
      "Episode 1700\tAverage Score: 15.13\n",
      "\n",
      "Environment solved in 1600 episodes!\tAverage Score: 15.13\n",
      "Episode 1800\tAverage Score: 14.94\n",
      "\n",
      "Environment solved in 1700 episodes!\tAverage Score: 14.94\n",
      "Episode 1900\tAverage Score: 15.42\n",
      "\n",
      "Environment solved in 1800 episodes!\tAverage Score: 15.42\n",
      "Episode 2000\tAverage Score: 14.84\n",
      "\n",
      "Environment solved in 1900 episodes!\tAverage Score: 14.84\n"
     ]
    },
    {
     "data": {
      "image/png": "[encoded data removed]",
      "text/plain": [
       "<Figure size 432x288 with 1 Axes>"
      ]
     },
     "metadata": {},
     "output_type": "display_data"
    },
    {
     "name": "stdout",
     "output_type": "stream",
     "text": [
      "The environment was first solved at episode : 1100  the best score was : 15.42\n"
     ]
    }
   ],
   "source": [
    "env = UnityEnvironment(file_name=\"./Banana_Windows_x86_64/Banana.exe\")\n",
    "agent = Agent(BananaNetworkFullRelu, state_size=37, action_size=4, hidden_layers=[16], seed=0)\n",
    "scores, best_score, highest_score, first_solved = dqn('9.6 BananaNetworkFullRelu one hidden layer 16', agent, best_score)\n",
    "env.close()\n",
    "\n",
    "plotScors (scores, highest_score, first_solved)"
   ]
  },
  {
   "cell_type": "markdown",
   "metadata": {},
   "source": [
    "#### 10.7 Fully connected layer with Relu extra exploration.\n",
    "\n",
    "This network is identical to 10.4 with double nodes. But the hyper parameter for epsilon decay is raised to 0.998 \n",
    "to add additional exploration for the state space."
   ]
  },
  {
   "cell_type": "code",
   "execution_count": 15,
   "metadata": {},
   "outputs": [
    {
     "name": "stderr",
     "output_type": "stream",
     "text": [
      "INFO:unityagents:\n",
      "'Academy' started successfully!\n",
      "Unity Academy name: Academy\n",
      "        Number of Brains: 1\n",
      "        Number of External Brains : 1\n",
      "        Lesson number : 0\n",
      "        Reset Parameters :\n",
      "\t\t\n",
      "Unity brain name: BananaBrain\n",
      "        Number of Visual Observations (per agent): 0\n",
      "        Vector Observation space type: continuous\n",
      "        Vector Observation space size (per agent): 37\n",
      "        Number of stacked Vector Observation: 1\n",
      "        Vector Action space type: discrete\n",
      "        Vector Action space size (per agent): 4\n",
      "        Vector Action descriptions: , , , \n"
     ]
    },
    {
     "name": "stdout",
     "output_type": "stream",
     "text": [
      "Episode 100\tAverage Score: 0.35\n",
      "Episode 200\tAverage Score: 1.77\n",
      "Episode 300\tAverage Score: 3.88\n",
      "Episode 400\tAverage Score: 5.24\n",
      "Episode 500\tAverage Score: 6.76\n",
      "Episode 600\tAverage Score: 8.47\n",
      "Episode 700\tAverage Score: 9.90\n",
      "Episode 800\tAverage Score: 11.43\n",
      "Episode 900\tAverage Score: 12.67\n",
      "Episode 1000\tAverage Score: 12.73\n",
      "Episode 1100\tAverage Score: 13.42\n",
      "\n",
      "Environment solved in 1000 episodes!\tAverage Score: 13.42\n",
      "Episode 1200\tAverage Score: 13.15\n",
      "\n",
      "Environment solved in 1100 episodes!\tAverage Score: 13.15\n",
      "Episode 1300\tAverage Score: 13.19\n",
      "\n",
      "Environment solved in 1200 episodes!\tAverage Score: 13.19\n",
      "Episode 1400\tAverage Score: 13.70\n",
      "\n",
      "Environment solved in 1300 episodes!\tAverage Score: 13.70\n",
      "Episode 1500\tAverage Score: 14.93\n",
      "\n",
      "Environment solved in 1400 episodes!\tAverage Score: 14.93\n",
      "Episode 1600\tAverage Score: 14.90\n",
      "\n",
      "Environment solved in 1500 episodes!\tAverage Score: 14.90\n",
      "Episode 1700\tAverage Score: 15.47\n",
      "\n",
      "Environment solved in 1600 episodes!\tAverage Score: 15.47\n",
      "Episode 1800\tAverage Score: 14.59\n",
      "\n",
      "Environment solved in 1700 episodes!\tAverage Score: 14.59\n",
      "Episode 1900\tAverage Score: 14.50\n",
      "\n",
      "Environment solved in 1800 episodes!\tAverage Score: 14.50\n",
      "Episode 2000\tAverage Score: 15.06\n",
      "\n",
      "Environment solved in 1900 episodes!\tAverage Score: 15.06\n"
     ]
    },
    {
     "data": {
      "image/png": "[encoded data removed]",
      "text/plain": [
       "<Figure size 432x288 with 1 Axes>"
      ]
     },
     "metadata": {},
     "output_type": "display_data"
    },
    {
     "name": "stdout",
     "output_type": "stream",
     "text": [
      "The environment was first solved at episode : 1100  the best score was : 15.47\n"
     ]
    }
   ],
   "source": [
    "env = UnityEnvironment(file_name=\"./Banana_Windows_x86_64/Banana.exe\")\n",
    "agent = Agent(BananaNetworkFullRelu, state_size=37, action_size=4, hidden_layers=[64, 32], seed=0)\n",
    "scores, best_score, highest_score, first_solved = dqn('9.7 BananaNetworkFullRelu 64/32 - more exploration', agent, best_score, eps_decay=0.998)\n",
    "env.close()\n",
    "\n",
    "plotScors (scores, highest_score, first_solved)"
   ]
  },
  {
   "cell_type": "markdown",
   "metadata": {},
   "source": [
    "#### 10.8 Fully connected layer with higher learn rate.\n",
    "\n",
    "This network is identical to 10.4 with double nodes. But the hyper parameter for learn rate is raised to lr = 5e-3 (a factor 10) to increase learn rate."
   ]
  },
  {
   "cell_type": "code",
   "execution_count": 16,
   "metadata": {},
   "outputs": [
    {
     "name": "stderr",
     "output_type": "stream",
     "text": [
      "INFO:unityagents:\n",
      "'Academy' started successfully!\n",
      "Unity Academy name: Academy\n",
      "        Number of Brains: 1\n",
      "        Number of External Brains : 1\n",
      "        Lesson number : 0\n",
      "        Reset Parameters :\n",
      "\t\t\n",
      "Unity brain name: BananaBrain\n",
      "        Number of Visual Observations (per agent): 0\n",
      "        Vector Observation space type: continuous\n",
      "        Vector Observation space size (per agent): 37\n",
      "        Number of stacked Vector Observation: 1\n",
      "        Vector Action space type: discrete\n",
      "        Vector Action space size (per agent): 4\n",
      "        Vector Action descriptions: , , , \n"
     ]
    },
    {
     "name": "stdout",
     "output_type": "stream",
     "text": [
      "Episode 100\tAverage Score: 0.01\n",
      "Episode 200\tAverage Score: 0.493\n",
      "Episode 300\tAverage Score: 2.19\n",
      "Episode 400\tAverage Score: 4.68\n",
      "Episode 500\tAverage Score: 6.66\n",
      "Episode 600\tAverage Score: 8.40\n",
      "Episode 700\tAverage Score: 9.93\n",
      "Episode 800\tAverage Score: 9.800\n",
      "Episode 900\tAverage Score: 10.84\n",
      "Episode 1000\tAverage Score: 11.38\n",
      "Episode 1100\tAverage Score: 11.41\n",
      "Episode 1200\tAverage Score: 11.03\n",
      "Episode 1300\tAverage Score: 10.80\n",
      "Episode 1400\tAverage Score: 11.27\n",
      "Episode 1500\tAverage Score: 12.10\n",
      "Episode 1600\tAverage Score: 11.60\n",
      "Episode 1700\tAverage Score: 12.33\n",
      "Episode 1800\tAverage Score: 11.13\n",
      "Episode 1900\tAverage Score: 12.48\n",
      "Episode 2000\tAverage Score: 12.16\n"
     ]
    },
    {
     "data": {
      "image/png": "[encoded data removed]",
      "text/plain": [
       "<Figure size 432x288 with 1 Axes>"
      ]
     },
     "metadata": {},
     "output_type": "display_data"
    },
    {
     "name": "stdout",
     "output_type": "stream",
     "text": [
      "The environment was never solved\n"
     ]
    }
   ],
   "source": [
    "env = UnityEnvironment(file_name=\"./Banana_Windows_x86_64/Banana.exe\")\n",
    "agent = Agent(BananaNetworkFullRelu, state_size=37, action_size=4, hidden_layers=[64, 32], seed=0, lr = 5e-3)\n",
    "scores, best_score, highest_score, first_solved = dqn('9.8 BananaNetworkFullRelu 64/32 - faster learning', agent, best_score)\n",
    "env.close()\n",
    "\n",
    "plotScors (scores, highest_score, first_solved)"
   ]
  },
  {
   "cell_type": "markdown",
   "metadata": {},
   "source": [
    "#### 10.9 Fully connected layer with higher transferrate between networks.\n",
    "\n",
    "This network is identical to 10.4 with double nodes. But the hyper parameter for updating the parameters from the local network to the target network is increased by a factor of 10 (tau = 1e-3)."
   ]
  },
  {
   "cell_type": "code",
   "execution_count": 17,
   "metadata": {},
   "outputs": [
    {
     "name": "stderr",
     "output_type": "stream",
     "text": [
      "INFO:unityagents:\n",
      "'Academy' started successfully!\n",
      "Unity Academy name: Academy\n",
      "        Number of Brains: 1\n",
      "        Number of External Brains : 1\n",
      "        Lesson number : 0\n",
      "        Reset Parameters :\n",
      "\t\t\n",
      "Unity brain name: BananaBrain\n",
      "        Number of Visual Observations (per agent): 0\n",
      "        Vector Observation space type: continuous\n",
      "        Vector Observation space size (per agent): 37\n",
      "        Number of stacked Vector Observation: 1\n",
      "        Vector Action space type: discrete\n",
      "        Vector Action space size (per agent): 4\n",
      "        Vector Action descriptions: , , , \n"
     ]
    },
    {
     "name": "stdout",
     "output_type": "stream",
     "text": [
      "Episode 100\tAverage Score: 0.46\n",
      "Episode 200\tAverage Score: 2.62\n",
      "Episode 300\tAverage Score: 4.99\n",
      "Episode 400\tAverage Score: 6.82\n",
      "Episode 500\tAverage Score: 9.23\n",
      "Episode 600\tAverage Score: 10.96\n",
      "Episode 700\tAverage Score: 12.51\n",
      "Episode 800\tAverage Score: 13.15\n",
      "\n",
      "Environment solved in 700 episodes!\tAverage Score: 13.15\n",
      "Episode 900\tAverage Score: 13.03\n",
      "\n",
      "Environment solved in 800 episodes!\tAverage Score: 13.03\n",
      "Episode 1000\tAverage Score: 13.69\n",
      "\n",
      "Environment solved in 900 episodes!\tAverage Score: 13.69\n",
      "Episode 1100\tAverage Score: 15.54\n",
      "\n",
      "Environment solved in 1000 episodes!\tAverage Score: 15.54\n",
      "Episode 1200\tAverage Score: 15.64\n",
      "\n",
      "Environment solved in 1100 episodes!\tAverage Score: 15.64\n",
      "Episode 1300\tAverage Score: 16.41\n",
      "\n",
      "Environment solved in 1200 episodes!\tAverage Score: 16.41\n",
      "Episode 1400\tAverage Score: 16.30\n",
      "\n",
      "Environment solved in 1300 episodes!\tAverage Score: 16.30\n",
      "Episode 1500\tAverage Score: 15.98\n",
      "\n",
      "Environment solved in 1400 episodes!\tAverage Score: 15.98\n",
      "Episode 1600\tAverage Score: 15.84\n",
      "\n",
      "Environment solved in 1500 episodes!\tAverage Score: 15.84\n",
      "Episode 1700\tAverage Score: 16.16\n",
      "\n",
      "Environment solved in 1600 episodes!\tAverage Score: 16.16\n",
      "Episode 1800\tAverage Score: 16.28\n",
      "\n",
      "Environment solved in 1700 episodes!\tAverage Score: 16.28\n",
      "Episode 1900\tAverage Score: 16.85\n",
      "\n",
      "Environment solved in 1800 episodes!\tAverage Score: 16.85\n",
      "Episode 2000\tAverage Score: 16.50\n",
      "\n",
      "Environment solved in 1900 episodes!\tAverage Score: 16.50\n"
     ]
    },
    {
     "data": {
      "image/png": "[encoded data removed]",
      "text/plain": [
       "<Figure size 432x288 with 1 Axes>"
      ]
     },
     "metadata": {},
     "output_type": "display_data"
    },
    {
     "name": "stdout",
     "output_type": "stream",
     "text": [
      "The environment was first solved at episode : 800  the best score was : 16.85\n"
     ]
    }
   ],
   "source": [
    "env = UnityEnvironment(file_name=\"./Banana_Windows_x86_64/Banana.exe\")\n",
    "agent = Agent(BananaNetworkFullRelu, state_size=37, action_size=4, hidden_layers=[64, 32], seed=0, tau = 1e-3)\n",
    "scores, best_score, highest_score, first_solved = dqn('9.9 BananaNetworkFullRelu 64/32 - faster transition', agent, best_score)\n",
    "env.close()\n",
    "\n",
    "plotScors (scores, highest_score, first_solved)"
   ]
  },
  {
   "cell_type": "markdown",
   "metadata": {},
   "source": [
    "#### 10.10 Fully connected layer with no discount rate.\n",
    "\n",
    "This network is identical to 10.4 with double nodes, but the hyper parameter for discounting future state values is increased to 1 (default value is: gamma = 0.99)."
   ]
  },
  {
   "cell_type": "code",
   "execution_count": 18,
   "metadata": {},
   "outputs": [
    {
     "name": "stderr",
     "output_type": "stream",
     "text": [
      "INFO:unityagents:\n",
      "'Academy' started successfully!\n",
      "Unity Academy name: Academy\n",
      "        Number of Brains: 1\n",
      "        Number of External Brains : 1\n",
      "        Lesson number : 0\n",
      "        Reset Parameters :\n",
      "\t\t\n",
      "Unity brain name: BananaBrain\n",
      "        Number of Visual Observations (per agent): 0\n",
      "        Vector Observation space type: continuous\n",
      "        Vector Observation space size (per agent): 37\n",
      "        Number of stacked Vector Observation: 1\n",
      "        Vector Action space type: discrete\n",
      "        Vector Action space size (per agent): 4\n",
      "        Vector Action descriptions: , , , \n"
     ]
    },
    {
     "name": "stdout",
     "output_type": "stream",
     "text": [
      "Episode 100\tAverage Score: 0.21\n",
      "Episode 200\tAverage Score: 2.28\n",
      "Episode 300\tAverage Score: 4.49\n",
      "Episode 400\tAverage Score: 6.63\n",
      "Episode 500\tAverage Score: 8.87\n",
      "Episode 600\tAverage Score: 10.58\n",
      "Episode 700\tAverage Score: 12.75\n",
      "Episode 800\tAverage Score: 13.93\n",
      "\n",
      "Environment solved in 700 episodes!\tAverage Score: 13.93\n",
      "Episode 900\tAverage Score: 13.80\n",
      "\n",
      "Environment solved in 800 episodes!\tAverage Score: 13.80\n",
      "Episode 1000\tAverage Score: 13.80\n",
      "\n",
      "Environment solved in 900 episodes!\tAverage Score: 13.80\n",
      "Episode 1100\tAverage Score: 13.65\n",
      "\n",
      "Environment solved in 1000 episodes!\tAverage Score: 13.65\n",
      "Episode 1200\tAverage Score: 15.25\n",
      "\n",
      "Environment solved in 1100 episodes!\tAverage Score: 15.25\n",
      "Episode 1300\tAverage Score: 14.31\n",
      "\n",
      "Environment solved in 1200 episodes!\tAverage Score: 14.31\n",
      "Episode 1400\tAverage Score: 14.91\n",
      "\n",
      "Environment solved in 1300 episodes!\tAverage Score: 14.91\n",
      "Episode 1500\tAverage Score: 15.13\n",
      "\n",
      "Environment solved in 1400 episodes!\tAverage Score: 15.13\n",
      "Episode 1600\tAverage Score: 15.74\n",
      "\n",
      "Environment solved in 1500 episodes!\tAverage Score: 15.74\n",
      "Episode 1700\tAverage Score: 14.13\n",
      "\n",
      "Environment solved in 1600 episodes!\tAverage Score: 14.13\n",
      "Episode 1800\tAverage Score: 13.73\n",
      "\n",
      "Environment solved in 1700 episodes!\tAverage Score: 13.73\n",
      "Episode 1900\tAverage Score: 13.96\n",
      "\n",
      "Environment solved in 1800 episodes!\tAverage Score: 13.96\n",
      "Episode 2000\tAverage Score: 14.16\n",
      "\n",
      "Environment solved in 1900 episodes!\tAverage Score: 14.16\n"
     ]
    },
    {
     "data": {
      "image/png": "[encoded data removed]",
      "text/plain": [
       "<Figure size 432x288 with 1 Axes>"
      ]
     },
     "metadata": {},
     "output_type": "display_data"
    },
    {
     "name": "stdout",
     "output_type": "stream",
     "text": [
      "The environment was first solved at episode : 800  the best score was : 15.74\n"
     ]
    }
   ],
   "source": [
    "env = UnityEnvironment(file_name=\"./Banana_Windows_x86_64/Banana.exe\")\n",
    "agent = Agent(BananaNetworkFullRelu, state_size=37, action_size=4, hidden_layers=[64, 32], seed=0, gamma = 1.0)\n",
    "scores, best_score, highest_score, first_solved = dqn('9.10 BananaNetworkFullRelu 64/32 - no discounting', agent, best_score)\n",
    "env.close()\n",
    "\n",
    "plotScors (scores, highest_score, first_solved)"
   ]
  },
  {
   "cell_type": "markdown",
   "metadata": {},
   "source": [
    "#### 10.11 Fully connected layer with higher discounting.\n",
    "\n",
    "This network is identical to 10.4 with double nodes, but the hyper parameter for discounting future state values is decreased to 0.95 (default value is: gamma = 0.99)."
   ]
  },
  {
   "cell_type": "code",
   "execution_count": 19,
   "metadata": {},
   "outputs": [
    {
     "name": "stderr",
     "output_type": "stream",
     "text": [
      "INFO:unityagents:\n",
      "'Academy' started successfully!\n",
      "Unity Academy name: Academy\n",
      "        Number of Brains: 1\n",
      "        Number of External Brains : 1\n",
      "        Lesson number : 0\n",
      "        Reset Parameters :\n",
      "\t\t\n",
      "Unity brain name: BananaBrain\n",
      "        Number of Visual Observations (per agent): 0\n",
      "        Vector Observation space type: continuous\n",
      "        Vector Observation space size (per agent): 37\n",
      "        Number of stacked Vector Observation: 1\n",
      "        Vector Action space type: discrete\n",
      "        Vector Action space size (per agent): 4\n",
      "        Vector Action descriptions: , , , \n"
     ]
    },
    {
     "name": "stdout",
     "output_type": "stream",
     "text": [
      "Episode 100\tAverage Score: 0.13\n",
      "Episode 200\tAverage Score: 1.96\n",
      "Episode 300\tAverage Score: 6.11\n",
      "Episode 400\tAverage Score: 8.00\n",
      "Episode 500\tAverage Score: 9.89\n",
      "Episode 600\tAverage Score: 11.50\n",
      "Episode 700\tAverage Score: 12.33\n",
      "Episode 800\tAverage Score: 12.94\n",
      "Episode 900\tAverage Score: 13.86\n",
      "\n",
      "Environment solved in 800 episodes!\tAverage Score: 13.86\n",
      "Episode 1000\tAverage Score: 14.95\n",
      "\n",
      "Environment solved in 900 episodes!\tAverage Score: 14.95\n",
      "Episode 1100\tAverage Score: 14.86\n",
      "\n",
      "Environment solved in 1000 episodes!\tAverage Score: 14.86\n",
      "Episode 1200\tAverage Score: 15.91\n",
      "\n",
      "Environment solved in 1100 episodes!\tAverage Score: 15.91\n",
      "Episode 1300\tAverage Score: 15.67\n",
      "\n",
      "Environment solved in 1200 episodes!\tAverage Score: 15.67\n",
      "Episode 1400\tAverage Score: 15.79\n",
      "\n",
      "Environment solved in 1300 episodes!\tAverage Score: 15.79\n",
      "Episode 1500\tAverage Score: 16.32\n",
      "\n",
      "Environment solved in 1400 episodes!\tAverage Score: 16.32\n",
      "Episode 1600\tAverage Score: 15.68\n",
      "\n",
      "Environment solved in 1500 episodes!\tAverage Score: 15.68\n",
      "Episode 1700\tAverage Score: 15.72\n",
      "\n",
      "Environment solved in 1600 episodes!\tAverage Score: 15.72\n",
      "Episode 1800\tAverage Score: 15.68\n",
      "\n",
      "Environment solved in 1700 episodes!\tAverage Score: 15.68\n",
      "Episode 1900\tAverage Score: 15.88\n",
      "\n",
      "Environment solved in 1800 episodes!\tAverage Score: 15.88\n",
      "Episode 2000\tAverage Score: 15.93\n",
      "\n",
      "Environment solved in 1900 episodes!\tAverage Score: 15.93\n"
     ]
    },
    {
     "data": {
      "image/png": "[encoded data removed]",
      "text/plain": [
       "<Figure size 432x288 with 1 Axes>"
      ]
     },
     "metadata": {},
     "output_type": "display_data"
    },
    {
     "name": "stdout",
     "output_type": "stream",
     "text": [
      "The environment was first solved at episode : 900  the best score was : 16.32\n"
     ]
    }
   ],
   "source": [
    "env = UnityEnvironment(file_name=\"./Banana_Windows_x86_64/Banana.exe\")\n",
    "agent = Agent(BananaNetworkFullRelu, state_size=37, action_size=4, hidden_layers=[64, 32], seed=0, gamma = 0.95)\n",
    "scores, best_score, highest_score, first_solved = dqn('9.11 BananaNetworkFullRelu 64/32 - higher discounting', agent, best_score)\n",
    "env.close()\n",
    "\n",
    "plotScors (scores, highest_score, first_solved)"
   ]
  },
  {
   "cell_type": "markdown",
   "metadata": {},
   "source": [
    "### 11. Best model/hyper parameter combination.\n",
    "\n",
    "Print name and result from the best model."
   ]
  },
  {
   "cell_type": "code",
   "execution_count": 20,
   "metadata": {},
   "outputs": [
    {
     "name": "stdout",
     "output_type": "stream",
     "text": [
      "The model with the best score was: 9.4 BananaNetworkFullRelu double nodes 64/32  it received a score of  16.85  at episode 1900  the model solved the environment first time at episode 800\n"
     ]
    }
   ],
   "source": [
    "checkpoint = torch.load('bestcheckpoint.pth')\n",
    "print ('The model with the best score was:',checkpoint['title'], ' it received a score of ', \n",
    "       checkpoint['best_score'], ' at episode', checkpoint['episode'], \n",
    "       ' the model solved the environment first time at episode', checkpoint['first_solved'])\n"
   ]
  },
  {
   "cell_type": "markdown",
   "metadata": {},
   "source": [
    "#### Close the environment\n",
    "If for some reason the cells above do not finish properly this celle is used to manually close the Unity environment."
   ]
  },
  {
   "cell_type": "code",
   "execution_count": 21,
   "metadata": {},
   "outputs": [],
   "source": [
    "#env.close()"
   ]
  },
  {
   "cell_type": "markdown",
   "metadata": {},
   "source": [
    "### 12. Conclusion\n",
    "\n",
    "The best working model was the one in section 10.4. The architecure is:\n",
    "\n",
    "    input layer - 37 states\n",
    "    |\n",
    "    fully connected hidden layer - 64 nodes followed by a ReLu\n",
    "    |\n",
    "    fully connected hidden layer - 32 nodes followed by a ReLu\n",
    "    |\n",
    "    fully connected ouput layer with 4 outputs.\n",
    "\n",
    "it solved the environment in 800 episodes and reached a maximum score of 16.85.<br>\n",
    "Adding dropouts, no Relu's, and high learn rate all resulted in an agent that diden't solve the environment.\n",
    "\n"
   ]
  },
  {
   "cell_type": "markdown",
   "metadata": {},
   "source": [
    "### 13. Future improvements\n",
    "\n",
    "The model can propably be improved by further adjustment of the hyper parameters. But to get substantial improvement some of the resent methods could be implemented.\n",
    "\n",
    "**Prioritized Experience Replay**<br>\n",
    "The experience replay implemented in this notebook is sampling equally from all the stored experiences. But some experiences are more usefull that others. Therefor the algorithme could be improved by selecting the more important and learn more from them. One criteria to select differently could be the TD error that is calculated as part of the calucation of Q-values. Sampling based on this values could improve perfomance. <br>\n",
    "This idea is described in the paper:  Prioritized Experience Replay, 2016, https://arxiv.org/abs/1511.05952\n",
    "\n",
    "**Dueling DQN**\n",
    "The pressent implementation calculates the action value directly from the state. Using dueling networks a network calculating the value of the new state is added and the sum of state value and action value is used for finding the next best action. This moves the focus from the action being the most important towards the value of the state. This has shown to be an improvement in the paper: Dueling Network Architectures for Deep Reinforcement Learning, 2016, https://arxiv.org/abs/1511.06581.\n",
    "\n",
    "**A3C**\n",
    "With the A3C (Asynchronous Advantage Actor Critic) algorithme multiple agenst are training at the same time on the same global weights. This can replace the experience replay buffer as the correlation is removed by the different agents. This algoritme was introduced in the paper: Asynchronous Methods for Deep Reinforcement Learning, 2016, https://arxiv.org/abs/1602.01783\n",
    "\n",
    "**Noisy DQN**\n",
    "In a noisy neural network the epsilon greedy exploration of the state space is replaced by adding noice to the weights and biases of the network. The method is described in the paper: Noicy Networks For Exploration, 2018, https://arxiv.org/abs/1706.10295\n",
    "\n"
   ]
  }
 ],
 "metadata": {
  "kernelspec": {
   "display_name": "Python 3",
   "language": "python",
   "name": "python3"
  },
  "language_info": {
   "codemirror_mode": {
    "name": "ipython",
    "version": 3
   },
   "file_extension": ".py",
   "mimetype": "text/x-python",
   "name": "python",
   "nbconvert_exporter": "python",
   "pygments_lexer": "ipython3",
   "version": "3.6.6"
  }
 },
 "nbformat": 4,
 "nbformat_minor": 2
}
